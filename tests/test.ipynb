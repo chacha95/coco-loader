{
 "cells": [
  {
   "cell_type": "code",
   "execution_count": 2,
   "metadata": {},
   "outputs": [
    {
     "ename": "ModuleNotFoundError",
     "evalue": "No module named 'dataclasses_json'",
     "output_type": "error",
     "traceback": [
      "\u001b[0;31m---------------------------------------------------------------------------\u001b[0m",
      "\u001b[0;31mModuleNotFoundError\u001b[0m                       Traceback (most recent call last)",
      "Cell \u001b[0;32mIn[2], line 8\u001b[0m\n\u001b[1;32m      5\u001b[0m current_dir \u001b[39m=\u001b[39m Path(os\u001b[39m.\u001b[39mgetcwd())\n\u001b[1;32m      6\u001b[0m sys\u001b[39m.\u001b[39mpath\u001b[39m.\u001b[39mappend(\u001b[39mstr\u001b[39m(current_dir\u001b[39m.\u001b[39mparent))\n\u001b[0;32m----> 8\u001b[0m \u001b[39mfrom\u001b[39;00m \u001b[39mcoco_loader\u001b[39;00m\u001b[39m.\u001b[39;00m\u001b[39mobjectdetection\u001b[39;00m \u001b[39mimport\u001b[39;00m ObjectDetectionDataset\n\u001b[1;32m      9\u001b[0m \u001b[39mfrom\u001b[39;00m \u001b[39mpathlib\u001b[39;00m \u001b[39mimport\u001b[39;00m Path\n\u001b[1;32m     12\u001b[0m \u001b[39mdef\u001b[39;00m \u001b[39mload_coco_dataset\u001b[39m(\n\u001b[1;32m     13\u001b[0m     coco_dataset_path: \u001b[39mstr\u001b[39m, dataset_type: \u001b[39mstr\u001b[39m\n\u001b[1;32m     14\u001b[0m ) \u001b[39m-\u001b[39m\u001b[39m>\u001b[39m ObjectDetectionDataset:\n",
      "File \u001b[0;32m~/workspace/coco-loader/coco_loader/objectdetection.py:4\u001b[0m\n\u001b[1;32m      1\u001b[0m \u001b[39mfrom\u001b[39;00m \u001b[39mdataclasses\u001b[39;00m \u001b[39mimport\u001b[39;00m dataclass\n\u001b[1;32m      2\u001b[0m \u001b[39mfrom\u001b[39;00m \u001b[39mtyping\u001b[39;00m \u001b[39mimport\u001b[39;00m List, Tuple\n\u001b[0;32m----> 4\u001b[0m \u001b[39mfrom\u001b[39;00m \u001b[39mdataclasses_json\u001b[39;00m \u001b[39mimport\u001b[39;00m dataclass_json\n\u001b[1;32m      6\u001b[0m \u001b[39mfrom\u001b[39;00m \u001b[39mcoco_loader\u001b[39;00m\u001b[39m.\u001b[39;00m\u001b[39mbases\u001b[39;00m \u001b[39mimport\u001b[39;00m Annotation, Category, Dataset\n\u001b[1;32m      9\u001b[0m \u001b[39m@dataclass_json\u001b[39m\n\u001b[1;32m     10\u001b[0m \u001b[39m@dataclass\u001b[39m\n\u001b[1;32m     11\u001b[0m \u001b[39mclass\u001b[39;00m \u001b[39mObjectDetectionAnnotation\u001b[39;00m(Annotation):\n",
      "\u001b[0;31mModuleNotFoundError\u001b[0m: No module named 'dataclasses_json'"
     ]
    }
   ],
   "source": [
    "# load coco dataset\n",
    "import sys\n",
    "import os\n",
    "from pathlib import Path\n",
    "current_dir = Path(os.getcwd())\n",
    "sys.path.append(str(current_dir.parent))\n",
    "\n",
    "from coco_loader.objectdetection import ObjectDetectionDataset\n",
    "from pathlib import Path\n",
    "\n",
    "\n",
    "def load_coco_dataset(\n",
    "    coco_dataset_path: str, dataset_type: str\n",
    ") -> ObjectDetectionDataset:\n",
    "    file_name = None\n",
    "    if dataset_type == \"train\":\n",
    "        file_name = \"instances_train2017.json\"\n",
    "    elif dataset_type == \"val\":\n",
    "        file_name = \"instances_val2017.json\"\n",
    "    elif dataset_type == \"test\":\n",
    "        file_name = \"image_info_test2017.json\"\n",
    "\n",
    "    # load the given COCO dataset JSON file using coco-lib\n",
    "    coco_path = Path(coco_dataset_path).joinpath(file_name)\n",
    "    coco_dataset: ObjectDetectionDataset = ObjectDetectionDataset.load(coco_path)\n",
    "\n",
    "    return coco_dataset\n",
    "\n",
    "\n",
    "# path to a COCO dataset JSON file\n",
    "COCO_DATASET_PATH=\"/Users/chacha/COCO2017/annotations\"\n",
    "dataset_type = \"train\"\n",
    "\n",
    "# load the given COCO dataset JSON file using coco-lib\n",
    "coco_dataset: ObjectDetectionDataset = load_coco_dataset(COCO_DATASET_PATH, dataset_type)"
   ]
  },
  {
   "cell_type": "code",
   "execution_count": null,
   "metadata": {},
   "outputs": [],
   "source": []
  }
 ],
 "metadata": {
  "kernelspec": {
   "display_name": ".venv",
   "language": "python",
   "name": "python3"
  },
  "language_info": {
   "codemirror_mode": {
    "name": "ipython",
    "version": 3
   },
   "file_extension": ".py",
   "mimetype": "text/x-python",
   "name": "python",
   "nbconvert_exporter": "python",
   "pygments_lexer": "ipython3",
   "version": "3.10.10"
  },
  "orig_nbformat": 4
 },
 "nbformat": 4,
 "nbformat_minor": 2
}
